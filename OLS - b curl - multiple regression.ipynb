{
 "cells": [
  {
   "cell_type": "markdown",
   "metadata": {},
   "source": [
    "# Multiple Regression"
   ]
  },
  {
   "cell_type": "code",
   "execution_count": null,
   "metadata": {},
   "outputs": [],
   "source": [
    "# importing packages\n",
    "import numpy as np\n",
    "import pandas as pd\n",
    "import os"
   ]
  },
  {
   "cell_type": "code",
   "execution_count": 2,
   "metadata": {},
   "outputs": [],
   "source": [
    "os.chdir(r'C:\\Users\\Yogesh\\Downloads')         #changing the directory"
   ]
  },
  {
   "cell_type": "code",
   "execution_count": 3,
   "metadata": {},
   "outputs": [
    {
     "data": {
      "text/html": [
       "<div>\n",
       "<style scoped>\n",
       "    .dataframe tbody tr th:only-of-type {\n",
       "        vertical-align: middle;\n",
       "    }\n",
       "\n",
       "    .dataframe tbody tr th {\n",
       "        vertical-align: top;\n",
       "    }\n",
       "\n",
       "    .dataframe thead th {\n",
       "        text-align: right;\n",
       "    }\n",
       "</style>\n",
       "<table border=\"1\" class=\"dataframe\">\n",
       "  <thead>\n",
       "    <tr style=\"text-align: right;\">\n",
       "      <th></th>\n",
       "      <th>Car</th>\n",
       "      <th>MPG</th>\n",
       "      <th>Cylinders</th>\n",
       "      <th>Displacement</th>\n",
       "      <th>Horsepower</th>\n",
       "      <th>Weight</th>\n",
       "      <th>Acceleration</th>\n",
       "      <th>Model</th>\n",
       "      <th>Origin</th>\n",
       "    </tr>\n",
       "  </thead>\n",
       "  <tbody>\n",
       "    <tr>\n",
       "      <th>0</th>\n",
       "      <td>Chevrolet Chevelle Malibu</td>\n",
       "      <td>18.0</td>\n",
       "      <td>8</td>\n",
       "      <td>307.0</td>\n",
       "      <td>130</td>\n",
       "      <td>3504</td>\n",
       "      <td>12.0</td>\n",
       "      <td>70</td>\n",
       "      <td>US</td>\n",
       "    </tr>\n",
       "    <tr>\n",
       "      <th>1</th>\n",
       "      <td>Buick Skylark 320</td>\n",
       "      <td>15.0</td>\n",
       "      <td>8</td>\n",
       "      <td>350.0</td>\n",
       "      <td>165</td>\n",
       "      <td>3693</td>\n",
       "      <td>11.5</td>\n",
       "      <td>70</td>\n",
       "      <td>US</td>\n",
       "    </tr>\n",
       "    <tr>\n",
       "      <th>2</th>\n",
       "      <td>Plymouth Satellite</td>\n",
       "      <td>18.0</td>\n",
       "      <td>8</td>\n",
       "      <td>318.0</td>\n",
       "      <td>150</td>\n",
       "      <td>3436</td>\n",
       "      <td>11.0</td>\n",
       "      <td>70</td>\n",
       "      <td>US</td>\n",
       "    </tr>\n",
       "    <tr>\n",
       "      <th>3</th>\n",
       "      <td>AMC Rebel SST</td>\n",
       "      <td>16.0</td>\n",
       "      <td>8</td>\n",
       "      <td>304.0</td>\n",
       "      <td>150</td>\n",
       "      <td>3433</td>\n",
       "      <td>12.0</td>\n",
       "      <td>70</td>\n",
       "      <td>US</td>\n",
       "    </tr>\n",
       "    <tr>\n",
       "      <th>4</th>\n",
       "      <td>Ford Torino</td>\n",
       "      <td>17.0</td>\n",
       "      <td>8</td>\n",
       "      <td>302.0</td>\n",
       "      <td>140</td>\n",
       "      <td>3449</td>\n",
       "      <td>10.5</td>\n",
       "      <td>70</td>\n",
       "      <td>US</td>\n",
       "    </tr>\n",
       "    <tr>\n",
       "      <th>...</th>\n",
       "      <td>...</td>\n",
       "      <td>...</td>\n",
       "      <td>...</td>\n",
       "      <td>...</td>\n",
       "      <td>...</td>\n",
       "      <td>...</td>\n",
       "      <td>...</td>\n",
       "      <td>...</td>\n",
       "      <td>...</td>\n",
       "    </tr>\n",
       "    <tr>\n",
       "      <th>401</th>\n",
       "      <td>Ford Mustang GL</td>\n",
       "      <td>27.0</td>\n",
       "      <td>4</td>\n",
       "      <td>140.0</td>\n",
       "      <td>86</td>\n",
       "      <td>2790</td>\n",
       "      <td>15.6</td>\n",
       "      <td>82</td>\n",
       "      <td>US</td>\n",
       "    </tr>\n",
       "    <tr>\n",
       "      <th>402</th>\n",
       "      <td>Volkswagen Pickup</td>\n",
       "      <td>44.0</td>\n",
       "      <td>4</td>\n",
       "      <td>97.0</td>\n",
       "      <td>52</td>\n",
       "      <td>2130</td>\n",
       "      <td>24.6</td>\n",
       "      <td>82</td>\n",
       "      <td>Europe</td>\n",
       "    </tr>\n",
       "    <tr>\n",
       "      <th>403</th>\n",
       "      <td>Dodge Rampage</td>\n",
       "      <td>32.0</td>\n",
       "      <td>4</td>\n",
       "      <td>135.0</td>\n",
       "      <td>84</td>\n",
       "      <td>2295</td>\n",
       "      <td>11.6</td>\n",
       "      <td>82</td>\n",
       "      <td>US</td>\n",
       "    </tr>\n",
       "    <tr>\n",
       "      <th>404</th>\n",
       "      <td>Ford Ranger</td>\n",
       "      <td>28.0</td>\n",
       "      <td>4</td>\n",
       "      <td>120.0</td>\n",
       "      <td>79</td>\n",
       "      <td>2625</td>\n",
       "      <td>18.6</td>\n",
       "      <td>82</td>\n",
       "      <td>US</td>\n",
       "    </tr>\n",
       "    <tr>\n",
       "      <th>405</th>\n",
       "      <td>Chevy S-10</td>\n",
       "      <td>31.0</td>\n",
       "      <td>4</td>\n",
       "      <td>119.0</td>\n",
       "      <td>82</td>\n",
       "      <td>2720</td>\n",
       "      <td>19.4</td>\n",
       "      <td>82</td>\n",
       "      <td>US</td>\n",
       "    </tr>\n",
       "  </tbody>\n",
       "</table>\n",
       "<p>406 rows × 9 columns</p>\n",
       "</div>"
      ],
      "text/plain": [
       "                           Car   MPG  Cylinders  Displacement  Horsepower  \\\n",
       "0    Chevrolet Chevelle Malibu  18.0          8         307.0         130   \n",
       "1            Buick Skylark 320  15.0          8         350.0         165   \n",
       "2           Plymouth Satellite  18.0          8         318.0         150   \n",
       "3                AMC Rebel SST  16.0          8         304.0         150   \n",
       "4                  Ford Torino  17.0          8         302.0         140   \n",
       "..                         ...   ...        ...           ...         ...   \n",
       "401            Ford Mustang GL  27.0          4         140.0          86   \n",
       "402          Volkswagen Pickup  44.0          4          97.0          52   \n",
       "403              Dodge Rampage  32.0          4         135.0          84   \n",
       "404                Ford Ranger  28.0          4         120.0          79   \n",
       "405                 Chevy S-10  31.0          4         119.0          82   \n",
       "\n",
       "     Weight  Acceleration  Model  Origin  \n",
       "0      3504          12.0     70      US  \n",
       "1      3693          11.5     70      US  \n",
       "2      3436          11.0     70      US  \n",
       "3      3433          12.0     70      US  \n",
       "4      3449          10.5     70      US  \n",
       "..      ...           ...    ...     ...  \n",
       "401    2790          15.6     82      US  \n",
       "402    2130          24.6     82  Europe  \n",
       "403    2295          11.6     82      US  \n",
       "404    2625          18.6     82      US  \n",
       "405    2720          19.4     82      US  \n",
       "\n",
       "[406 rows x 9 columns]"
      ]
     },
     "execution_count": 3,
     "metadata": {},
     "output_type": "execute_result"
    }
   ],
   "source": [
    "o = pd.read_csv('cars.csv')                   # loading data\n",
    "o"
   ]
  },
  {
   "cell_type": "code",
   "execution_count": 4,
   "metadata": {},
   "outputs": [],
   "source": [
    "x = o[['Displacement','Horsepower','Weight',]]           #ilocing the data\n",
    "y = o[['MPG']]"
   ]
  },
  {
   "cell_type": "code",
   "execution_count": 5,
   "metadata": {},
   "outputs": [],
   "source": [
    "#adding the constant\n",
    "c = [1]                          #adding the constant\n",
    "c = c * len(o)"
   ]
  },
  {
   "cell_type": "code",
   "execution_count": 6,
   "metadata": {},
   "outputs": [],
   "source": [
    "x.insert(0,'Constant',c)        # inserting constant in the datafareme\n"
   ]
  },
  {
   "cell_type": "code",
   "execution_count": 7,
   "metadata": {},
   "outputs": [],
   "source": [
    "#xT\n",
    "ot = x.T                        #Tranpsosing the dataframe "
   ]
  },
  {
   "cell_type": "code",
   "execution_count": 8,
   "metadata": {},
   "outputs": [
    {
     "data": {
      "text/html": [
       "<div>\n",
       "<style scoped>\n",
       "    .dataframe tbody tr th:only-of-type {\n",
       "        vertical-align: middle;\n",
       "    }\n",
       "\n",
       "    .dataframe tbody tr th {\n",
       "        vertical-align: top;\n",
       "    }\n",
       "\n",
       "    .dataframe thead th {\n",
       "        text-align: right;\n",
       "    }\n",
       "</style>\n",
       "<table border=\"1\" class=\"dataframe\">\n",
       "  <thead>\n",
       "    <tr style=\"text-align: right;\">\n",
       "      <th></th>\n",
       "      <th>Constant</th>\n",
       "      <th>Displacement</th>\n",
       "      <th>Horsepower</th>\n",
       "      <th>Weight</th>\n",
       "    </tr>\n",
       "  </thead>\n",
       "  <tbody>\n",
       "    <tr>\n",
       "      <th>Constant</th>\n",
       "      <td>406.0</td>\n",
       "      <td>7.908050e+04</td>\n",
       "      <td>42033.0</td>\n",
       "      <td>1.209642e+06</td>\n",
       "    </tr>\n",
       "    <tr>\n",
       "      <th>Displacement</th>\n",
       "      <td>79080.5</td>\n",
       "      <td>1.986180e+07</td>\n",
       "      <td>9691666.0</td>\n",
       "      <td>2.691754e+08</td>\n",
       "    </tr>\n",
       "    <tr>\n",
       "      <th>Horsepower</th>\n",
       "      <td>42033.0</td>\n",
       "      <td>9.691666e+06</td>\n",
       "      <td>5016637.0</td>\n",
       "      <td>1.369210e+08</td>\n",
       "    </tr>\n",
       "    <tr>\n",
       "      <th>Weight</th>\n",
       "      <td>1209642.0</td>\n",
       "      <td>2.691754e+08</td>\n",
       "      <td>136921031.0</td>\n",
       "      <td>3.894578e+09</td>\n",
       "    </tr>\n",
       "  </tbody>\n",
       "</table>\n",
       "</div>"
      ],
      "text/plain": [
       "               Constant  Displacement   Horsepower        Weight\n",
       "Constant          406.0  7.908050e+04      42033.0  1.209642e+06\n",
       "Displacement    79080.5  1.986180e+07    9691666.0  2.691754e+08\n",
       "Horsepower      42033.0  9.691666e+06    5016637.0  1.369210e+08\n",
       "Weight        1209642.0  2.691754e+08  136921031.0  3.894578e+09"
      ]
     },
     "execution_count": 8,
     "metadata": {},
     "output_type": "execute_result"
    }
   ],
   "source": [
    "# xTx \n",
    "c = ot.dot(x)                   # multipying the predictor\n",
    "c"
   ]
  },
  {
   "cell_type": "code",
   "execution_count": 9,
   "metadata": {},
   "outputs": [
    {
     "data": {
      "text/plain": [
       "array([[ 7.49091050e-02,  2.97046642e-04, -1.51777896e-04,\n",
       "        -3.84609771e-05],\n",
       "       [ 2.97046642e-04,  2.17716262e-06, -1.72610351e-06,\n",
       "        -1.82052819e-07],\n",
       "       [-1.51777896e-04, -1.72610351e-06,  6.50028263e-06,\n",
       "        -6.20873162e-08],\n",
       "       [-3.84609771e-05, -1.82052819e-07, -6.20873162e-08,\n",
       "         2.69680623e-08]])"
      ]
     },
     "execution_count": 9,
     "metadata": {},
     "output_type": "execute_result"
    }
   ],
   "source": [
    "#[xTx]Inverse\n",
    "xTxInverse = np.linalg.inv(c)                   #  inverse of the matrix\n",
    "xTxInverse"
   ]
  },
  {
   "cell_type": "code",
   "execution_count": 10,
   "metadata": {},
   "outputs": [
    {
     "data": {
      "text/html": [
       "<div>\n",
       "<style scoped>\n",
       "    .dataframe tbody tr th:only-of-type {\n",
       "        vertical-align: middle;\n",
       "    }\n",
       "\n",
       "    .dataframe tbody tr th {\n",
       "        vertical-align: top;\n",
       "    }\n",
       "\n",
       "    .dataframe thead th {\n",
       "        text-align: right;\n",
       "    }\n",
       "</style>\n",
       "<table border=\"1\" class=\"dataframe\">\n",
       "  <thead>\n",
       "    <tr style=\"text-align: right;\">\n",
       "      <th></th>\n",
       "      <th>0</th>\n",
       "      <th>1</th>\n",
       "      <th>2</th>\n",
       "      <th>3</th>\n",
       "      <th>4</th>\n",
       "      <th>5</th>\n",
       "      <th>6</th>\n",
       "      <th>7</th>\n",
       "      <th>8</th>\n",
       "      <th>9</th>\n",
       "      <th>...</th>\n",
       "      <th>396</th>\n",
       "      <th>397</th>\n",
       "      <th>398</th>\n",
       "      <th>399</th>\n",
       "      <th>400</th>\n",
       "      <th>401</th>\n",
       "      <th>402</th>\n",
       "      <th>403</th>\n",
       "      <th>404</th>\n",
       "      <th>405</th>\n",
       "    </tr>\n",
       "  </thead>\n",
       "  <tbody>\n",
       "    <tr>\n",
       "      <th>Constant</th>\n",
       "      <td>1.0</td>\n",
       "      <td>1.0</td>\n",
       "      <td>1.0</td>\n",
       "      <td>1.0</td>\n",
       "      <td>1.0</td>\n",
       "      <td>1.0</td>\n",
       "      <td>1.0</td>\n",
       "      <td>1.0</td>\n",
       "      <td>1.0</td>\n",
       "      <td>1.0</td>\n",
       "      <td>...</td>\n",
       "      <td>1.0</td>\n",
       "      <td>1.0</td>\n",
       "      <td>1.0</td>\n",
       "      <td>1.0</td>\n",
       "      <td>1.0</td>\n",
       "      <td>1.0</td>\n",
       "      <td>1.0</td>\n",
       "      <td>1.0</td>\n",
       "      <td>1.0</td>\n",
       "      <td>1.0</td>\n",
       "    </tr>\n",
       "    <tr>\n",
       "      <th>Displacement</th>\n",
       "      <td>307.0</td>\n",
       "      <td>350.0</td>\n",
       "      <td>318.0</td>\n",
       "      <td>304.0</td>\n",
       "      <td>302.0</td>\n",
       "      <td>429.0</td>\n",
       "      <td>454.0</td>\n",
       "      <td>440.0</td>\n",
       "      <td>455.0</td>\n",
       "      <td>390.0</td>\n",
       "      <td>...</td>\n",
       "      <td>156.0</td>\n",
       "      <td>232.0</td>\n",
       "      <td>144.0</td>\n",
       "      <td>135.0</td>\n",
       "      <td>151.0</td>\n",
       "      <td>140.0</td>\n",
       "      <td>97.0</td>\n",
       "      <td>135.0</td>\n",
       "      <td>120.0</td>\n",
       "      <td>119.0</td>\n",
       "    </tr>\n",
       "    <tr>\n",
       "      <th>Horsepower</th>\n",
       "      <td>130.0</td>\n",
       "      <td>165.0</td>\n",
       "      <td>150.0</td>\n",
       "      <td>150.0</td>\n",
       "      <td>140.0</td>\n",
       "      <td>198.0</td>\n",
       "      <td>220.0</td>\n",
       "      <td>215.0</td>\n",
       "      <td>225.0</td>\n",
       "      <td>190.0</td>\n",
       "      <td>...</td>\n",
       "      <td>92.0</td>\n",
       "      <td>112.0</td>\n",
       "      <td>96.0</td>\n",
       "      <td>84.0</td>\n",
       "      <td>90.0</td>\n",
       "      <td>86.0</td>\n",
       "      <td>52.0</td>\n",
       "      <td>84.0</td>\n",
       "      <td>79.0</td>\n",
       "      <td>82.0</td>\n",
       "    </tr>\n",
       "    <tr>\n",
       "      <th>Weight</th>\n",
       "      <td>3504.0</td>\n",
       "      <td>3693.0</td>\n",
       "      <td>3436.0</td>\n",
       "      <td>3433.0</td>\n",
       "      <td>3449.0</td>\n",
       "      <td>4341.0</td>\n",
       "      <td>4354.0</td>\n",
       "      <td>4312.0</td>\n",
       "      <td>4425.0</td>\n",
       "      <td>3850.0</td>\n",
       "      <td>...</td>\n",
       "      <td>2585.0</td>\n",
       "      <td>2835.0</td>\n",
       "      <td>2665.0</td>\n",
       "      <td>2370.0</td>\n",
       "      <td>2950.0</td>\n",
       "      <td>2790.0</td>\n",
       "      <td>2130.0</td>\n",
       "      <td>2295.0</td>\n",
       "      <td>2625.0</td>\n",
       "      <td>2720.0</td>\n",
       "    </tr>\n",
       "  </tbody>\n",
       "</table>\n",
       "<p>4 rows × 406 columns</p>\n",
       "</div>"
      ],
      "text/plain": [
       "                 0       1       2       3       4       5       6       7    \\\n",
       "Constant         1.0     1.0     1.0     1.0     1.0     1.0     1.0     1.0   \n",
       "Displacement   307.0   350.0   318.0   304.0   302.0   429.0   454.0   440.0   \n",
       "Horsepower     130.0   165.0   150.0   150.0   140.0   198.0   220.0   215.0   \n",
       "Weight        3504.0  3693.0  3436.0  3433.0  3449.0  4341.0  4354.0  4312.0   \n",
       "\n",
       "                 8       9    ...     396     397     398     399     400  \\\n",
       "Constant         1.0     1.0  ...     1.0     1.0     1.0     1.0     1.0   \n",
       "Displacement   455.0   390.0  ...   156.0   232.0   144.0   135.0   151.0   \n",
       "Horsepower     225.0   190.0  ...    92.0   112.0    96.0    84.0    90.0   \n",
       "Weight        4425.0  3850.0  ...  2585.0  2835.0  2665.0  2370.0  2950.0   \n",
       "\n",
       "                 401     402     403     404     405  \n",
       "Constant         1.0     1.0     1.0     1.0     1.0  \n",
       "Displacement   140.0    97.0   135.0   120.0   119.0  \n",
       "Horsepower      86.0    52.0    84.0    79.0    82.0  \n",
       "Weight        2790.0  2130.0  2295.0  2625.0  2720.0  \n",
       "\n",
       "[4 rows x 406 columns]"
      ]
     },
     "execution_count": 10,
     "metadata": {},
     "output_type": "execute_result"
    }
   ],
   "source": [
    "#xT\n",
    "ot"
   ]
  },
  {
   "cell_type": "code",
   "execution_count": 12,
   "metadata": {},
   "outputs": [
    {
     "data": {
      "text/plain": [
       "array([ 4.44999776e+01, -7.91897363e-03, -3.93767539e-02, -5.31300288e-03])"
      ]
     },
     "execution_count": 12,
     "metadata": {},
     "output_type": "execute_result"
    }
   ],
   "source": [
    "#xTy\n",
    "h = ot.dot(y)                           # geting dot product product\n",
    "h\n",
    "np.array([ 4.44999776e+01, -7.91897363e-03, -3.93767539e-02, -5.31300288e-03])"
   ]
  },
  {
   "cell_type": "markdown",
   "metadata": {},
   "source": [
    "# b = (xTx)-1*xTy"
   ]
  },
  {
   "cell_type": "code",
   "execution_count": 13,
   "metadata": {},
   "outputs": [
    {
     "data": {
      "text/plain": [
       "array([[ 4.44999776e+01],\n",
       "       [-7.91897363e-03],\n",
       "       [-3.93767539e-02],\n",
       "       [-5.31300288e-03]])"
      ]
     },
     "execution_count": 13,
     "metadata": {},
     "output_type": "execute_result"
    }
   ],
   "source": [
    "xTxInverse.dot(h)                      #multiupling xTx whit h"
   ]
  },
  {
   "cell_type": "code",
   "execution_count": 14,
   "metadata": {},
   "outputs": [],
   "source": [
    "def multiple_pred(d,h,w):                                                                  # defining funtion\n",
    "    y = 4.44999776e+01 - 7.91897363e-03 * d - 3.93767539e-02 * h - 5.31300288e-03 * w      # adding variable multiple  for predictors\n",
    "    return(y)"
   ]
  },
  {
   "cell_type": "code",
   "execution_count": 15,
   "metadata": {},
   "outputs": [
    {
     "data": {
      "text/plain": [
       "18.333112597070002"
      ]
     },
     "execution_count": 15,
     "metadata": {},
     "output_type": "execute_result"
    }
   ],
   "source": [
    "multiple_pred(307,130,3504)                                           #using  mutiple preditor"
   ]
  },
  {
   "cell_type": "code",
   "execution_count": null,
   "metadata": {},
   "outputs": [],
   "source": [
    "y = 4.44999776e+01 - 7.91897363e-03 * d - 3.93767539e-02 * h - 5.31300288e-03 * w "
   ]
  },
  {
   "cell_type": "code",
   "execution_count": 21,
   "metadata": {},
   "outputs": [
    {
     "data": {
      "text/plain": [
       "0     18.333113\n",
       "1     15.610253\n",
       "2     17.819753\n",
       "3     17.946558\n",
       "4     18.271155\n",
       "5     10.242395\n",
       "6      9.109063\n",
       "7      9.639959\n",
       "8      8.527037\n",
       "9     13.474934\n",
       "10    22.501249\n",
       "11    13.224715\n",
       "12    14.263121\n",
       "13    12.442109\n",
       "14    14.303154\n",
       "15    15.842733\n",
       "16    16.332619\n",
       "17    18.781203\n",
       "18    15.443671\n",
       "19    15.641148\n",
       "20    27.261899\n",
       "21    24.139492\n",
       "22    24.366287\n",
       "23    25.824420\n",
       "24    28.949987\n",
       "25    32.171146\n",
       "26    26.006769\n",
       "27    27.198143\n",
       "28    27.317231\n",
       "29    27.222960\n",
       "30    25.311362\n",
       "31     8.663637\n",
       "32    10.943801\n",
       "33    10.431047\n",
       "34     9.351766\n",
       "35    28.949987\n",
       "36    27.818775\n",
       "37    28.026972\n",
       "38    32.853514\n",
       "39    31.332633\n",
       "40    24.730651\n",
       "41    20.312232\n",
       "42    20.895572\n",
       "43    21.511544\n",
       "44    21.255947\n",
       "45    12.868743\n",
       "46    10.724211\n",
       "47    13.625561\n",
       "48    14.313171\n",
       "49     8.053266\n",
       "dtype: float64"
      ]
     },
     "execution_count": 21,
     "metadata": {},
     "output_type": "execute_result"
    }
   ],
   "source": [
    "#y predected values in multiple predector\n",
    "y = 4.44999776e+01 - 7.91897363e-03 * o.Displacement - 3.93767539e-02 * o.Horsepower - 5.31300288e-03 * o.Weight \n",
    "y.head(50)"
   ]
  }
 ],
 "metadata": {
  "kernelspec": {
   "display_name": "Python 3",
   "language": "python",
   "name": "python3"
  },
  "language_info": {
   "codemirror_mode": {
    "name": "ipython",
    "version": 3
   },
   "file_extension": ".py",
   "mimetype": "text/x-python",
   "name": "python",
   "nbconvert_exporter": "python",
   "pygments_lexer": "ipython3",
   "version": "3.8.5"
  }
 },
 "nbformat": 4,
 "nbformat_minor": 5
}
