{
 "cells": [
  {
   "cell_type": "markdown",
   "metadata": {},
   "source": [
    "# Simple linear regression"
   ]
  },
  {
   "cell_type": "code",
   "execution_count": 3,
   "metadata": {},
   "outputs": [],
   "source": [
    "# importing packages\n",
    "import pandas  as pd\n",
    "import numpy as np\n",
    "import os "
   ]
  },
  {
   "cell_type": "code",
   "execution_count": null,
   "metadata": {},
   "outputs": [],
   "source": []
  },
  {
   "cell_type": "code",
   "execution_count": 15,
   "metadata": {},
   "outputs": [],
   "source": [
    "os.chdir(r'C:\\Users\\Yogesh\\Downloads')             #changing the directory\n",
    "o  = pd.read_csv('cars.csv')                       # loading data"
   ]
  },
  {
   "cell_type": "code",
   "execution_count": 16,
   "metadata": {},
   "outputs": [
    {
     "data": {
      "text/html": [
       "<div>\n",
       "<style scoped>\n",
       "    .dataframe tbody tr th:only-of-type {\n",
       "        vertical-align: middle;\n",
       "    }\n",
       "\n",
       "    .dataframe tbody tr th {\n",
       "        vertical-align: top;\n",
       "    }\n",
       "\n",
       "    .dataframe thead th {\n",
       "        text-align: right;\n",
       "    }\n",
       "</style>\n",
       "<table border=\"1\" class=\"dataframe\">\n",
       "  <thead>\n",
       "    <tr style=\"text-align: right;\">\n",
       "      <th></th>\n",
       "      <th>Acceleration</th>\n",
       "      <th>Car</th>\n",
       "      <th>Cylinders</th>\n",
       "      <th>Displacement</th>\n",
       "      <th>Horsepower</th>\n",
       "      <th>MPG</th>\n",
       "      <th>Model</th>\n",
       "      <th>Origin</th>\n",
       "      <th>Weight</th>\n",
       "    </tr>\n",
       "  </thead>\n",
       "  <tbody>\n",
       "    <tr>\n",
       "      <th>0</th>\n",
       "      <td>-1.26</td>\n",
       "      <td>NaN</td>\n",
       "      <td>1.47</td>\n",
       "      <td>1.07</td>\n",
       "      <td>0.65</td>\n",
       "      <td>-0.60</td>\n",
       "      <td>-1.58</td>\n",
       "      <td>NaN</td>\n",
       "      <td>0.62</td>\n",
       "    </tr>\n",
       "    <tr>\n",
       "      <th>1</th>\n",
       "      <td>-1.43</td>\n",
       "      <td>NaN</td>\n",
       "      <td>1.47</td>\n",
       "      <td>1.48</td>\n",
       "      <td>1.52</td>\n",
       "      <td>-0.96</td>\n",
       "      <td>-1.58</td>\n",
       "      <td>NaN</td>\n",
       "      <td>0.84</td>\n",
       "    </tr>\n",
       "    <tr>\n",
       "      <th>2</th>\n",
       "      <td>-1.61</td>\n",
       "      <td>NaN</td>\n",
       "      <td>1.47</td>\n",
       "      <td>1.17</td>\n",
       "      <td>1.15</td>\n",
       "      <td>-0.60</td>\n",
       "      <td>-1.58</td>\n",
       "      <td>NaN</td>\n",
       "      <td>0.54</td>\n",
       "    </tr>\n",
       "    <tr>\n",
       "      <th>3</th>\n",
       "      <td>-1.26</td>\n",
       "      <td>NaN</td>\n",
       "      <td>1.47</td>\n",
       "      <td>1.04</td>\n",
       "      <td>1.15</td>\n",
       "      <td>-0.84</td>\n",
       "      <td>-1.58</td>\n",
       "      <td>NaN</td>\n",
       "      <td>0.54</td>\n",
       "    </tr>\n",
       "    <tr>\n",
       "      <th>4</th>\n",
       "      <td>-1.79</td>\n",
       "      <td>NaN</td>\n",
       "      <td>1.47</td>\n",
       "      <td>1.02</td>\n",
       "      <td>0.90</td>\n",
       "      <td>-0.72</td>\n",
       "      <td>-1.58</td>\n",
       "      <td>NaN</td>\n",
       "      <td>0.55</td>\n",
       "    </tr>\n",
       "    <tr>\n",
       "      <th>...</th>\n",
       "      <td>...</td>\n",
       "      <td>...</td>\n",
       "      <td>...</td>\n",
       "      <td>...</td>\n",
       "      <td>...</td>\n",
       "      <td>...</td>\n",
       "      <td>...</td>\n",
       "      <td>...</td>\n",
       "      <td>...</td>\n",
       "    </tr>\n",
       "    <tr>\n",
       "      <th>401</th>\n",
       "      <td>0.03</td>\n",
       "      <td>NaN</td>\n",
       "      <td>-0.86</td>\n",
       "      <td>-0.52</td>\n",
       "      <td>-0.43</td>\n",
       "      <td>0.47</td>\n",
       "      <td>1.62</td>\n",
       "      <td>NaN</td>\n",
       "      <td>-0.22</td>\n",
       "    </tr>\n",
       "    <tr>\n",
       "      <th>402</th>\n",
       "      <td>3.24</td>\n",
       "      <td>NaN</td>\n",
       "      <td>-0.86</td>\n",
       "      <td>-0.93</td>\n",
       "      <td>-1.27</td>\n",
       "      <td>2.49</td>\n",
       "      <td>1.62</td>\n",
       "      <td>NaN</td>\n",
       "      <td>-1.00</td>\n",
       "    </tr>\n",
       "    <tr>\n",
       "      <th>403</th>\n",
       "      <td>-1.40</td>\n",
       "      <td>NaN</td>\n",
       "      <td>-0.86</td>\n",
       "      <td>-0.57</td>\n",
       "      <td>-0.48</td>\n",
       "      <td>1.07</td>\n",
       "      <td>1.62</td>\n",
       "      <td>NaN</td>\n",
       "      <td>-0.81</td>\n",
       "    </tr>\n",
       "    <tr>\n",
       "      <th>404</th>\n",
       "      <td>1.10</td>\n",
       "      <td>NaN</td>\n",
       "      <td>-0.86</td>\n",
       "      <td>-0.71</td>\n",
       "      <td>-0.61</td>\n",
       "      <td>0.59</td>\n",
       "      <td>1.62</td>\n",
       "      <td>NaN</td>\n",
       "      <td>-0.42</td>\n",
       "    </tr>\n",
       "    <tr>\n",
       "      <th>405</th>\n",
       "      <td>1.38</td>\n",
       "      <td>NaN</td>\n",
       "      <td>-0.86</td>\n",
       "      <td>-0.72</td>\n",
       "      <td>-0.53</td>\n",
       "      <td>0.95</td>\n",
       "      <td>1.62</td>\n",
       "      <td>NaN</td>\n",
       "      <td>-0.31</td>\n",
       "    </tr>\n",
       "  </tbody>\n",
       "</table>\n",
       "<p>406 rows × 9 columns</p>\n",
       "</div>"
      ],
      "text/plain": [
       "     Acceleration  Car  Cylinders  Displacement  Horsepower   MPG  Model  \\\n",
       "0           -1.26  NaN       1.47          1.07        0.65 -0.60  -1.58   \n",
       "1           -1.43  NaN       1.47          1.48        1.52 -0.96  -1.58   \n",
       "2           -1.61  NaN       1.47          1.17        1.15 -0.60  -1.58   \n",
       "3           -1.26  NaN       1.47          1.04        1.15 -0.84  -1.58   \n",
       "4           -1.79  NaN       1.47          1.02        0.90 -0.72  -1.58   \n",
       "..            ...  ...        ...           ...         ...   ...    ...   \n",
       "401          0.03  NaN      -0.86         -0.52       -0.43  0.47   1.62   \n",
       "402          3.24  NaN      -0.86         -0.93       -1.27  2.49   1.62   \n",
       "403         -1.40  NaN      -0.86         -0.57       -0.48  1.07   1.62   \n",
       "404          1.10  NaN      -0.86         -0.71       -0.61  0.59   1.62   \n",
       "405          1.38  NaN      -0.86         -0.72       -0.53  0.95   1.62   \n",
       "\n",
       "    Origin  Weight  \n",
       "0      NaN    0.62  \n",
       "1      NaN    0.84  \n",
       "2      NaN    0.54  \n",
       "3      NaN    0.54  \n",
       "4      NaN    0.55  \n",
       "..     ...     ...  \n",
       "401    NaN   -0.22  \n",
       "402    NaN   -1.00  \n",
       "403    NaN   -0.81  \n",
       "404    NaN   -0.42  \n",
       "405    NaN   -0.31  \n",
       "\n",
       "[406 rows x 9 columns]"
      ]
     },
     "execution_count": 16,
     "metadata": {},
     "output_type": "execute_result"
    }
   ],
   "source": [
    "r  = round((o - o.mean())/o.std(),2)               #standarizing the data\n",
    "r\n"
   ]
  },
  {
   "cell_type": "code",
   "execution_count": 6,
   "metadata": {},
   "outputs": [
    {
     "data": {
      "text/plain": [
       "1209642"
      ]
     },
     "execution_count": 6,
     "metadata": {},
     "output_type": "execute_result"
    }
   ],
   "source": [
    "xi  = o[\"Weight\"].sum()                   # sum of weight\n",
    "xi"
   ]
  },
  {
   "cell_type": "code",
   "execution_count": 7,
   "metadata": {},
   "outputs": [
    {
     "data": {
      "text/plain": [
       "1463233768164"
      ]
     },
     "execution_count": 7,
     "metadata": {},
     "output_type": "execute_result"
    }
   ],
   "source": [
    "xi_whole =  (xi).sum()                 \n",
    "xi_whole  = xi_whole**2                   #sum of weight square\n",
    "xi_whole "
   ]
  },
  {
   "cell_type": "code",
   "execution_count": 8,
   "metadata": {},
   "outputs": [
    {
     "data": {
      "text/plain": [
       "3894577674"
      ]
     },
     "execution_count": 8,
     "metadata": {},
     "output_type": "execute_result"
    }
   ],
   "source": [
    "xi_sqr  = o[\"Weight\"]**2                  \n",
    "xi_sqr = np.sum(xi_sqr)                   # summing up then  sqred weight\n",
    "xi_sqr"
   ]
  },
  {
   "cell_type": "code",
   "execution_count": 9,
   "metadata": {},
   "outputs": [
    {
     "data": {
      "text/plain": [
       "25614040.9"
      ]
     },
     "execution_count": 9,
     "metadata": {},
     "output_type": "execute_result"
    }
   ],
   "source": [
    "exy = o[\"MPG\"] * o[\"Weight\"]              #multipliying x & y\n",
    "exy = np.sum(exy)\n",
    "exy"
   ]
  },
  {
   "cell_type": "code",
   "execution_count": 10,
   "metadata": {},
   "outputs": [
    {
     "data": {
      "text/plain": [
       "9358.8"
      ]
     },
     "execution_count": 10,
     "metadata": {},
     "output_type": "execute_result"
    }
   ],
   "source": [
    "yi = o[\"MPG\"].sum()                      # summing up MPG\n",
    "yi"
   ]
  },
  {
   "cell_type": "code",
   "execution_count": 11,
   "metadata": {},
   "outputs": [
    {
     "data": {
      "text/plain": [
       "3894577674"
      ]
     },
     "execution_count": 11,
     "metadata": {},
     "output_type": "execute_result"
    }
   ],
   "source": [
    "yi_sqr  = o[\"MPG\"]**2                     # squaring the MPG\n",
    "yi_sqr = np.sum(xi_sqr)                   \n",
    "yi_sqr"
   ]
  },
  {
   "cell_type": "code",
   "execution_count": 12,
   "metadata": {},
   "outputs": [
    {
     "data": {
      "text/plain": [
       "406"
      ]
     },
     "execution_count": 12,
     "metadata": {},
     "output_type": "execute_result"
    }
   ],
   "source": [
    "n = len(o)                               #lenght of the data\n",
    "n"
   ]
  },
  {
   "cell_type": "code",
   "execution_count": 13,
   "metadata": {},
   "outputs": [
    {
     "data": {
      "text/plain": [
       "46.325305341697934"
      ]
     },
     "execution_count": 13,
     "metadata": {},
     "output_type": "execute_result"
    }
   ],
   "source": [
    "a = ((yi * xi_sqr) - (xi * exy)) / ((n*(xi_sqr)) - xi_whole ) #implementing in the cramers rule formulae for a\n",
    "a"
   ]
  },
  {
   "cell_type": "code",
   "execution_count": 17,
   "metadata": {},
   "outputs": [
    {
     "data": {
      "text/plain": [
       "-0.00781162853863321"
      ]
     },
     "execution_count": 17,
     "metadata": {},
     "output_type": "execute_result"
    }
   ],
   "source": [
    "b = (n*(exy) - (xi)*(yi)) / (n*(xi_sqr) - xi_whole)         #implementing in the cramers rule formulae for b\n",
    "b"
   ]
  }
 ],
 "metadata": {
  "kernelspec": {
   "display_name": "Python 3",
   "language": "python",
   "name": "python3"
  },
  "language_info": {
   "codemirror_mode": {
    "name": "ipython",
    "version": 3
   },
   "file_extension": ".py",
   "mimetype": "text/x-python",
   "name": "python",
   "nbconvert_exporter": "python",
   "pygments_lexer": "ipython3",
   "version": "3.8.5"
  }
 },
 "nbformat": 4,
 "nbformat_minor": 5
}
